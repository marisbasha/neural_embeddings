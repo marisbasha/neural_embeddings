{
 "cells": [
  {
   "cell_type": "code",
   "execution_count": 1,
   "id": "483e0ed5-095a-4462-9a4d-558d32e30489",
   "metadata": {
    "tags": []
   },
   "outputs": [],
   "source": [
    "from huggingface_hub import HfApi\n",
    "api = HfApi()"
   ]
  },
  {
   "cell_type": "code",
   "execution_count": null,
   "id": "04ec00a2-4ba4-4c26-bd0a-949718eca495",
   "metadata": {},
   "outputs": [],
   "source": [
    "api.upload_folder(\n",
    "    folder_path=\"../data/datasets/bengalese-finch-simple-label/\",\n",
    "    repo_id=\"nccratliri/vad-bengalese-finch-simple-label\",\n",
    "    repo_type=\"dataset\",\n",
    ")"
   ]
  },
  {
   "cell_type": "code",
   "execution_count": 2,
   "id": "2ec0ad7a-c2b0-49c2-921c-f1fa6ee8944f",
   "metadata": {},
   "outputs": [
    {
     "data": {
      "application/vnd.jupyter.widget-view+json": {
       "model_id": "71765eea81134363ba20362c5aa7c251",
       "version_major": 2,
       "version_minor": 0
      },
      "text/plain": [
       "model.bin:   0%|          | 0.00/1.55G [00:00<?, ?B/s]"
      ]
     },
     "metadata": {},
     "output_type": "display_data"
    },
    {
     "data": {
      "text/plain": [
       "CommitInfo(commit_url='https://huggingface.co/nccratliri/whisperseg-large-mkt-pup-vs-adult-ct2/commit/59767a92dd0e9bd2f659b0bde93416f0e6a5fea5', commit_message='Upload folder using huggingface_hub', commit_description='', oid='59767a92dd0e9bd2f659b0bde93416f0e6a5fea5', pr_url=None, pr_revision=None, pr_num=None)"
      ]
     },
     "execution_count": 2,
     "metadata": {},
     "output_type": "execute_result"
    }
   ],
   "source": [
    "api.upload_folder(\n",
    "    folder_path=\"../model/whisperseg-large-meerkat-pup-vs-adult/final_checkpoint_ct2/\",\n",
    "    repo_id=\"nccratliri/whisperseg-large-mkt-pup-vs-adult-ct2\",\n",
    "    repo_type=\"model\",\n",
    ")"
   ]
  },
  {
   "cell_type": "code",
   "execution_count": 3,
   "id": "5d7b2b25-29af-4eda-a1f6-969cfdcdecc0",
   "metadata": {},
   "outputs": [
    {
     "data": {
      "application/vnd.jupyter.widget-view+json": {
       "model_id": "0bd69db544cf4507a6cce1a2e19a430e",
       "version_major": 2,
       "version_minor": 0
      },
      "text/plain": [
       "model.bin:   0%|          | 0.00/3.08G [00:00<?, ?B/s]"
      ]
     },
     "metadata": {},
     "output_type": "display_data"
    },
    {
     "data": {
      "text/plain": [
       "CommitInfo(commit_url='https://huggingface.co/nccratliri/whisperseg-meerkat-vad-ct2/commit/b0ae8fedc8da4c2ab58579a062be12d92fb141aa', commit_message='Upload folder using huggingface_hub', commit_description='', oid='b0ae8fedc8da4c2ab58579a062be12d92fb141aa', pr_url=None, pr_revision=None, pr_num=None)"
      ]
     },
     "execution_count": 3,
     "metadata": {},
     "output_type": "execute_result"
    }
   ],
   "source": [
    "api.upload_folder(\n",
    "    folder_path=\"../model/whisperseg-meerkat-zebra-finch-based-v2.0/final_checkpoint_ct2/\",\n",
    "    repo_id=\"nccratliri/whisperseg-meerkat-vad-ct2\",\n",
    "    repo_type=\"model\",\n",
    ")"
   ]
  },
  {
   "cell_type": "code",
   "execution_count": null,
   "id": "a96fde03-08c8-4f7b-9c09-ea8253e9db09",
   "metadata": {},
   "outputs": [],
   "source": []
  },
  {
   "cell_type": "code",
   "execution_count": null,
   "id": "faefd48c-de6b-444d-86bc-b9b1b2ddaf47",
   "metadata": {},
   "outputs": [],
   "source": []
  }
 ],
 "metadata": {
  "kernelspec": {
   "display_name": "Python [conda env:wseg]",
   "language": "python",
   "name": "conda-env-wseg-py"
  },
  "language_info": {
   "codemirror_mode": {
    "name": "ipython",
    "version": 3
   },
   "file_extension": ".py",
   "mimetype": "text/x-python",
   "name": "python",
   "nbconvert_exporter": "python",
   "pygments_lexer": "ipython3",
   "version": "3.10.13"
  }
 },
 "nbformat": 4,
 "nbformat_minor": 5
}
